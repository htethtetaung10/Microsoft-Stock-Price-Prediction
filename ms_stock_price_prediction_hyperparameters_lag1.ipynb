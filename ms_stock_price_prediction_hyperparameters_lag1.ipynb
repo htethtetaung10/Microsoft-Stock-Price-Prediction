{
 "cells": [
  {
   "cell_type": "code",
   "execution_count": 1,
   "metadata": {
    "colab": {
     "base_uri": "https://localhost:8080/",
     "height": 424
    },
    "id": "PSIHfWL23fBi",
    "outputId": "548a8b03-225f-4833-f543-c8956ec27c19"
   },
   "outputs": [],
   "source": [
    "import pandas as pd\n",
    "import datetime\n",
    "import numpy as np\n",
    "import matplotlib.pyplot as plt\n",
    "from sklearn.preprocessing import StandardScaler\n",
    "from sklearn.model_selection import TimeSeriesSplit\n",
    "from sklearn.metrics import mean_squared_error, mean_absolute_error, make_scorer\n",
    "from sklearn.linear_model import LinearRegression\n",
    "from sklearn.svm import SVR\n",
    "from sklearn.ensemble import RandomForestRegressor\n",
    "from sklearn.ensemble import GradientBoostingRegressor\n",
    "from sklearn.neighbors import KNeighborsRegressor\n",
    "from sklearn.model_selection import GridSearchCV\n",
    "import pickle\n",
    "import tensorflow as tf\n",
    "from tensorflow import keras\n",
    "from tensorflow.keras.models import Sequential\n",
    "from tensorflow.keras.optimizers import Adam\n",
    "from tensorflow.keras import layers\n",
    "from tensorflow.keras.layers import Input, Dense, Dropout, Flatten\n",
    "from keras_tuner.tuners import RandomSearch\n",
    "from keras_tuner.tuners import Hyperband\n",
    "from keras_tuner.engine.hyperparameters import HyperParameters"
   ]
  },
  {
   "cell_type": "code",
   "execution_count": 2,
   "metadata": {},
   "outputs": [
    {
     "data": {
      "text/html": [
       "<div>\n",
       "<style scoped>\n",
       "    .dataframe tbody tr th:only-of-type {\n",
       "        vertical-align: middle;\n",
       "    }\n",
       "\n",
       "    .dataframe tbody tr th {\n",
       "        vertical-align: top;\n",
       "    }\n",
       "\n",
       "    .dataframe thead th {\n",
       "        text-align: right;\n",
       "    }\n",
       "</style>\n",
       "<table border=\"1\" class=\"dataframe\">\n",
       "  <thead>\n",
       "    <tr style=\"text-align: right;\">\n",
       "      <th></th>\n",
       "      <th>Date</th>\n",
       "      <th>Open</th>\n",
       "      <th>High</th>\n",
       "      <th>Low</th>\n",
       "      <th>Close</th>\n",
       "      <th>Adj Close</th>\n",
       "      <th>Volume</th>\n",
       "    </tr>\n",
       "  </thead>\n",
       "  <tbody>\n",
       "    <tr>\n",
       "      <th>0</th>\n",
       "      <td>1986-03-13</td>\n",
       "      <td>0.088542</td>\n",
       "      <td>0.101563</td>\n",
       "      <td>0.088542</td>\n",
       "      <td>0.097222</td>\n",
       "      <td>0.060657</td>\n",
       "      <td>1031788800</td>\n",
       "    </tr>\n",
       "    <tr>\n",
       "      <th>1</th>\n",
       "      <td>1986-03-14</td>\n",
       "      <td>0.097222</td>\n",
       "      <td>0.102431</td>\n",
       "      <td>0.097222</td>\n",
       "      <td>0.100694</td>\n",
       "      <td>0.062823</td>\n",
       "      <td>308160000</td>\n",
       "    </tr>\n",
       "    <tr>\n",
       "      <th>2</th>\n",
       "      <td>1986-03-17</td>\n",
       "      <td>0.100694</td>\n",
       "      <td>0.103299</td>\n",
       "      <td>0.100694</td>\n",
       "      <td>0.102431</td>\n",
       "      <td>0.063907</td>\n",
       "      <td>133171200</td>\n",
       "    </tr>\n",
       "    <tr>\n",
       "      <th>3</th>\n",
       "      <td>1986-03-18</td>\n",
       "      <td>0.102431</td>\n",
       "      <td>0.103299</td>\n",
       "      <td>0.098958</td>\n",
       "      <td>0.099826</td>\n",
       "      <td>0.062281</td>\n",
       "      <td>67766400</td>\n",
       "    </tr>\n",
       "    <tr>\n",
       "      <th>4</th>\n",
       "      <td>1986-03-19</td>\n",
       "      <td>0.099826</td>\n",
       "      <td>0.100694</td>\n",
       "      <td>0.097222</td>\n",
       "      <td>0.098090</td>\n",
       "      <td>0.061198</td>\n",
       "      <td>47894400</td>\n",
       "    </tr>\n",
       "    <tr>\n",
       "      <th>...</th>\n",
       "      <td>...</td>\n",
       "      <td>...</td>\n",
       "      <td>...</td>\n",
       "      <td>...</td>\n",
       "      <td>...</td>\n",
       "      <td>...</td>\n",
       "      <td>...</td>\n",
       "    </tr>\n",
       "    <tr>\n",
       "      <th>9356</th>\n",
       "      <td>2023-04-27</td>\n",
       "      <td>295.970001</td>\n",
       "      <td>305.200012</td>\n",
       "      <td>295.250000</td>\n",
       "      <td>304.829987</td>\n",
       "      <td>304.829987</td>\n",
       "      <td>46462600</td>\n",
       "    </tr>\n",
       "    <tr>\n",
       "      <th>9357</th>\n",
       "      <td>2023-04-28</td>\n",
       "      <td>304.010010</td>\n",
       "      <td>308.929993</td>\n",
       "      <td>303.309998</td>\n",
       "      <td>307.260010</td>\n",
       "      <td>307.260010</td>\n",
       "      <td>36446700</td>\n",
       "    </tr>\n",
       "    <tr>\n",
       "      <th>9358</th>\n",
       "      <td>2023-05-01</td>\n",
       "      <td>306.970001</td>\n",
       "      <td>308.600006</td>\n",
       "      <td>305.149994</td>\n",
       "      <td>305.559998</td>\n",
       "      <td>305.559998</td>\n",
       "      <td>21294100</td>\n",
       "    </tr>\n",
       "    <tr>\n",
       "      <th>9359</th>\n",
       "      <td>2023-05-02</td>\n",
       "      <td>307.760010</td>\n",
       "      <td>309.179993</td>\n",
       "      <td>303.910004</td>\n",
       "      <td>305.410004</td>\n",
       "      <td>305.410004</td>\n",
       "      <td>26404400</td>\n",
       "    </tr>\n",
       "    <tr>\n",
       "      <th>9360</th>\n",
       "      <td>2023-05-03</td>\n",
       "      <td>306.619995</td>\n",
       "      <td>308.609985</td>\n",
       "      <td>304.089996</td>\n",
       "      <td>304.399994</td>\n",
       "      <td>304.399994</td>\n",
       "      <td>22303300</td>\n",
       "    </tr>\n",
       "  </tbody>\n",
       "</table>\n",
       "<p>9361 rows × 7 columns</p>\n",
       "</div>"
      ],
      "text/plain": [
       "            Date        Open        High         Low       Close   Adj Close  \\\n",
       "0     1986-03-13    0.088542    0.101563    0.088542    0.097222    0.060657   \n",
       "1     1986-03-14    0.097222    0.102431    0.097222    0.100694    0.062823   \n",
       "2     1986-03-17    0.100694    0.103299    0.100694    0.102431    0.063907   \n",
       "3     1986-03-18    0.102431    0.103299    0.098958    0.099826    0.062281   \n",
       "4     1986-03-19    0.099826    0.100694    0.097222    0.098090    0.061198   \n",
       "...          ...         ...         ...         ...         ...         ...   \n",
       "9356  2023-04-27  295.970001  305.200012  295.250000  304.829987  304.829987   \n",
       "9357  2023-04-28  304.010010  308.929993  303.309998  307.260010  307.260010   \n",
       "9358  2023-05-01  306.970001  308.600006  305.149994  305.559998  305.559998   \n",
       "9359  2023-05-02  307.760010  309.179993  303.910004  305.410004  305.410004   \n",
       "9360  2023-05-03  306.619995  308.609985  304.089996  304.399994  304.399994   \n",
       "\n",
       "          Volume  \n",
       "0     1031788800  \n",
       "1      308160000  \n",
       "2      133171200  \n",
       "3       67766400  \n",
       "4       47894400  \n",
       "...          ...  \n",
       "9356    46462600  \n",
       "9357    36446700  \n",
       "9358    21294100  \n",
       "9359    26404400  \n",
       "9360    22303300  \n",
       "\n",
       "[9361 rows x 7 columns]"
      ]
     },
     "execution_count": 2,
     "metadata": {},
     "output_type": "execute_result"
    }
   ],
   "source": [
    "# Load data (data source: https://finance.yahoo.com/quote/MSFT/history/)\n",
    "data = pd.read_csv(r\"C:\\Users\\htet\\Documents\\backup\\prediction_ms_stock_prices\\MSFT.csv\")\n",
    "data"
   ]
  },
  {
   "cell_type": "code",
   "execution_count": 3,
   "metadata": {
    "colab": {
     "base_uri": "https://localhost:8080/",
     "height": 424
    },
    "id": "3I6ju2n83jGq",
    "outputId": "ffbaacb7-5393-4982-8726-a5f79b8a9fdd"
   },
   "outputs": [
    {
     "data": {
      "text/html": [
       "<div>\n",
       "<style scoped>\n",
       "    .dataframe tbody tr th:only-of-type {\n",
       "        vertical-align: middle;\n",
       "    }\n",
       "\n",
       "    .dataframe tbody tr th {\n",
       "        vertical-align: top;\n",
       "    }\n",
       "\n",
       "    .dataframe thead th {\n",
       "        text-align: right;\n",
       "    }\n",
       "</style>\n",
       "<table border=\"1\" class=\"dataframe\">\n",
       "  <thead>\n",
       "    <tr style=\"text-align: right;\">\n",
       "      <th></th>\n",
       "      <th>Date</th>\n",
       "      <th>Close</th>\n",
       "    </tr>\n",
       "  </thead>\n",
       "  <tbody>\n",
       "    <tr>\n",
       "      <th>0</th>\n",
       "      <td>1986-03-13</td>\n",
       "      <td>0.097222</td>\n",
       "    </tr>\n",
       "    <tr>\n",
       "      <th>1</th>\n",
       "      <td>1986-03-14</td>\n",
       "      <td>0.100694</td>\n",
       "    </tr>\n",
       "    <tr>\n",
       "      <th>2</th>\n",
       "      <td>1986-03-17</td>\n",
       "      <td>0.102431</td>\n",
       "    </tr>\n",
       "    <tr>\n",
       "      <th>3</th>\n",
       "      <td>1986-03-18</td>\n",
       "      <td>0.099826</td>\n",
       "    </tr>\n",
       "    <tr>\n",
       "      <th>4</th>\n",
       "      <td>1986-03-19</td>\n",
       "      <td>0.098090</td>\n",
       "    </tr>\n",
       "  </tbody>\n",
       "</table>\n",
       "</div>"
      ],
      "text/plain": [
       "         Date     Close\n",
       "0  1986-03-13  0.097222\n",
       "1  1986-03-14  0.100694\n",
       "2  1986-03-17  0.102431\n",
       "3  1986-03-18  0.099826\n",
       "4  1986-03-19  0.098090"
      ]
     },
     "execution_count": 3,
     "metadata": {},
     "output_type": "execute_result"
    }
   ],
   "source": [
    "def drop_columns(dataframe, cols):\n",
    "    dataframe = dataframe.drop(cols, axis=1)\n",
    "    return dataframe\n",
    "\n",
    "data = drop_columns(data, [\"Open\", \"High\", \"Low\", \"Adj Close\", \"Volume\"])\n",
    "data.head()"
   ]
  },
  {
   "cell_type": "code",
   "execution_count": 4,
   "metadata": {
    "colab": {
     "base_uri": "https://localhost:8080/"
    },
    "id": "ZtzK_Fnd6UEP",
    "outputId": "bb06298a-412c-49f5-f830-0a7c7e857693"
   },
   "outputs": [
    {
     "data": {
      "text/plain": [
       "0   1986-03-13\n",
       "1   1986-03-14\n",
       "2   1986-03-17\n",
       "3   1986-03-18\n",
       "4   1986-03-19\n",
       "Name: Date, dtype: datetime64[ns]"
      ]
     },
     "execution_count": 4,
     "metadata": {},
     "output_type": "execute_result"
    }
   ],
   "source": [
    "def str_to_datetime(s):\n",
    "  split = s.split('-')\n",
    "  year, month, day = int(split[0]), int(split[1]), int(split[2])\n",
    "  return datetime.datetime(year=year, month=month, day=day)\n",
    "\n",
    "data['Date'] = data['Date'].apply(str_to_datetime)\n",
    "data['Date'].head()"
   ]
  },
  {
   "cell_type": "code",
   "execution_count": 5,
   "metadata": {
    "colab": {
     "base_uri": "https://localhost:8080/",
     "height": 455
    },
    "id": "khQN7tf1BJCB",
    "outputId": "09f6deea-48e4-4ed3-975b-fa261c7c8f35"
   },
   "outputs": [
    {
     "data": {
      "text/html": [
       "<div>\n",
       "<style scoped>\n",
       "    .dataframe tbody tr th:only-of-type {\n",
       "        vertical-align: middle;\n",
       "    }\n",
       "\n",
       "    .dataframe tbody tr th {\n",
       "        vertical-align: top;\n",
       "    }\n",
       "\n",
       "    .dataframe thead th {\n",
       "        text-align: right;\n",
       "    }\n",
       "</style>\n",
       "<table border=\"1\" class=\"dataframe\">\n",
       "  <thead>\n",
       "    <tr style=\"text-align: right;\">\n",
       "      <th></th>\n",
       "      <th>Close</th>\n",
       "    </tr>\n",
       "    <tr>\n",
       "      <th>Date</th>\n",
       "      <th></th>\n",
       "    </tr>\n",
       "  </thead>\n",
       "  <tbody>\n",
       "    <tr>\n",
       "      <th>1986-03-13</th>\n",
       "      <td>0.097222</td>\n",
       "    </tr>\n",
       "    <tr>\n",
       "      <th>1986-03-14</th>\n",
       "      <td>0.100694</td>\n",
       "    </tr>\n",
       "    <tr>\n",
       "      <th>1986-03-17</th>\n",
       "      <td>0.102431</td>\n",
       "    </tr>\n",
       "    <tr>\n",
       "      <th>1986-03-18</th>\n",
       "      <td>0.099826</td>\n",
       "    </tr>\n",
       "    <tr>\n",
       "      <th>1986-03-19</th>\n",
       "      <td>0.098090</td>\n",
       "    </tr>\n",
       "  </tbody>\n",
       "</table>\n",
       "</div>"
      ],
      "text/plain": [
       "               Close\n",
       "Date                \n",
       "1986-03-13  0.097222\n",
       "1986-03-14  0.100694\n",
       "1986-03-17  0.102431\n",
       "1986-03-18  0.099826\n",
       "1986-03-19  0.098090"
      ]
     },
     "execution_count": 5,
     "metadata": {},
     "output_type": "execute_result"
    }
   ],
   "source": [
    "data = data.set_index(\"Date\")\n",
    "data.head()"
   ]
  },
  {
   "cell_type": "code",
   "execution_count": 6,
   "metadata": {},
   "outputs": [
    {
     "data": {
      "text/plain": [
       "count    9361.000000\n",
       "mean       47.864888\n",
       "std        69.759779\n",
       "min         0.090278\n",
       "25%         5.304688\n",
       "50%        27.080000\n",
       "75%        43.360001\n",
       "max       343.109985\n",
       "Name: Close, dtype: float64"
      ]
     },
     "execution_count": 6,
     "metadata": {},
     "output_type": "execute_result"
    }
   ],
   "source": [
    "data['Close'].describe()"
   ]
  },
  {
   "cell_type": "code",
   "execution_count": 7,
   "metadata": {
    "colab": {
     "base_uri": "https://localhost:8080/",
     "height": 283
    },
    "id": "17OZExfcBWzD",
    "outputId": "d1e6868b-b04e-49b1-c7a1-cf4f705843ff"
   },
   "outputs": [
    {
     "data": {
      "text/plain": [
       "Text(0.5, 1.0, 'Closing Values Over Time')"
      ]
     },
     "execution_count": 7,
     "metadata": {},
     "output_type": "execute_result"
    },
    {
     "data": {
      "image/png": "[encoded data removed]",
      "text/plain": [
       "<Figure size 640x480 with 1 Axes>"
      ]
     },
     "metadata": {},
     "output_type": "display_data"
    }
   ],
   "source": [
    "# Plot yearly closing values over time\n",
    "plt.plot(data.index, data['Close'])\n",
    "plt.xlabel(\"Date\")\n",
    "plt.ylabel(\"Close\")\n",
    "plt.title(\"Closing Values Over Time\")"
   ]
  },
  {
   "cell_type": "code",
   "execution_count": 8,
   "metadata": {},
   "outputs": [
    {
     "name": "stdout",
     "output_type": "stream",
     "text": [
      "count     38.000000\n",
      "mean      51.474578\n",
      "std       75.109397\n",
      "min        0.117596\n",
      "25%        5.778952\n",
      "50%       26.852981\n",
      "75%       43.438429\n",
      "max      275.940754\n",
      "Name: Close, dtype: float64\n"
     ]
    },
    {
     "data": {
      "text/plain": [
       "Text(0.5, 1.0, 'Yearly Closing Value Over Time')"
      ]
     },
     "execution_count": 8,
     "metadata": {},
     "output_type": "execute_result"
    },
    {
     "data": {
      "image/png": "[encoded data removed]",
      "text/plain": [
       "<Figure size 640x480 with 1 Axes>"
      ]
     },
     "metadata": {},
     "output_type": "display_data"
    }
   ],
   "source": [
    "# Yearly data distribution\n",
    "data_year = data.Close.resample('Y').mean()\n",
    "print(data_year.describe())\n",
    "\n",
    "# Plot quaterly closing value over time\n",
    "plt.plot(data_year.index, data_year)\n",
    "plt.xlabel(\"Year\")\n",
    "plt.ylabel(\"Close\")\n",
    "plt.grid()\n",
    "plt.title(\"Yearly Closing Value Over Time\")"
   ]
  },
  {
   "cell_type": "code",
   "execution_count": 9,
   "metadata": {},
   "outputs": [
    {
     "name": "stdout",
     "output_type": "stream",
     "text": [
      "count    150.000000\n",
      "mean      48.710331\n",
      "std       71.435336\n",
      "min        0.096282\n",
      "25%        5.267330\n",
      "50%       27.024108\n",
      "75%       44.339050\n",
      "max      324.210157\n",
      "Name: Close, dtype: float64\n"
     ]
    },
    {
     "data": {
      "text/plain": [
       "Text(0.5, 1.0, 'Quarterly Closing Value Over Time')"
      ]
     },
     "execution_count": 9,
     "metadata": {},
     "output_type": "execute_result"
    },
    {
     "data": {
      "image/png": "[encoded data removed]",
      "text/plain": [
       "<Figure size 640x480 with 1 Axes>"
      ]
     },
     "metadata": {},
     "output_type": "display_data"
    }
   ],
   "source": [
    "# Quarterly data distribution\n",
    "data_quarter = data.Close.resample('Q').mean()\n",
    "print(data_quarter.describe())\n",
    "\n",
    "# Plot closing value over time\n",
    "plt.plot(data_quarter.index, data_quarter)\n",
    "plt.xlabel(\"Quarter\")\n",
    "plt.ylabel(\"Close\")\n",
    "plt.grid()\n",
    "plt.title(\"Quarterly Closing Value Over Time\")"
   ]
  },
  {
   "cell_type": "code",
   "execution_count": 10,
   "metadata": {},
   "outputs": [
    {
     "name": "stdout",
     "output_type": "stream",
     "text": [
      "count    447.000000\n",
      "mean      48.411090\n",
      "std       70.663067\n",
      "min        0.096282\n",
      "25%        5.456676\n",
      "50%       27.075263\n",
      "75%       43.514048\n",
      "max      335.870950\n",
      "Name: Close, dtype: float64\n"
     ]
    },
    {
     "data": {
      "text/plain": [
       "Text(0.5, 1.0, 'Monthly Closing Value Over Time')"
      ]
     },
     "execution_count": 10,
     "metadata": {},
     "output_type": "execute_result"
    },
    {
     "data": {
      "image/png": "[encoded data removed]",
      "text/plain": [
       "<Figure size 640x480 with 1 Axes>"
      ]
     },
     "metadata": {},
     "output_type": "display_data"
    }
   ],
   "source": [
    "# Monthly data distribution\n",
    "data_month = data.Close.resample('M').mean()\n",
    "print(data_month.describe())\n",
    "\n",
    "# Plot Monthly closing value over time\n",
    "plt.plot(data_month.index, data_month)\n",
    "plt.xlabel(\"Month\")\n",
    "plt.ylabel(\"Close\")\n",
    "plt.grid()\n",
    "plt.title(\"Monthly Closing Value Over Time\")"
   ]
  },
  {
   "cell_type": "code",
   "execution_count": 11,
   "metadata": {},
   "outputs": [
    {
     "data": {
      "text/html": [
       "<div>\n",
       "<style scoped>\n",
       "    .dataframe tbody tr th:only-of-type {\n",
       "        vertical-align: middle;\n",
       "    }\n",
       "\n",
       "    .dataframe tbody tr th {\n",
       "        vertical-align: top;\n",
       "    }\n",
       "\n",
       "    .dataframe thead th {\n",
       "        text-align: right;\n",
       "    }\n",
       "</style>\n",
       "<table border=\"1\" class=\"dataframe\">\n",
       "  <thead>\n",
       "    <tr style=\"text-align: right;\">\n",
       "      <th></th>\n",
       "      <th>Close</th>\n",
       "      <th>Target_Close_1</th>\n",
       "      <th>Target</th>\n",
       "    </tr>\n",
       "    <tr>\n",
       "      <th>Date</th>\n",
       "      <th></th>\n",
       "      <th></th>\n",
       "      <th></th>\n",
       "    </tr>\n",
       "  </thead>\n",
       "  <tbody>\n",
       "    <tr>\n",
       "      <th>1986-03-13</th>\n",
       "      <td>0.097222</td>\n",
       "      <td>NaN</td>\n",
       "      <td>0.097222</td>\n",
       "    </tr>\n",
       "    <tr>\n",
       "      <th>1986-03-14</th>\n",
       "      <td>0.100694</td>\n",
       "      <td>0.097222</td>\n",
       "      <td>0.100694</td>\n",
       "    </tr>\n",
       "    <tr>\n",
       "      <th>1986-03-17</th>\n",
       "      <td>0.102431</td>\n",
       "      <td>0.100694</td>\n",
       "      <td>0.102431</td>\n",
       "    </tr>\n",
       "    <tr>\n",
       "      <th>1986-03-18</th>\n",
       "      <td>0.099826</td>\n",
       "      <td>0.102431</td>\n",
       "      <td>0.099826</td>\n",
       "    </tr>\n",
       "    <tr>\n",
       "      <th>1986-03-19</th>\n",
       "      <td>0.098090</td>\n",
       "      <td>0.099826</td>\n",
       "      <td>0.098090</td>\n",
       "    </tr>\n",
       "    <tr>\n",
       "      <th>...</th>\n",
       "      <td>...</td>\n",
       "      <td>...</td>\n",
       "      <td>...</td>\n",
       "    </tr>\n",
       "    <tr>\n",
       "      <th>2023-04-27</th>\n",
       "      <td>304.829987</td>\n",
       "      <td>295.369995</td>\n",
       "      <td>304.829987</td>\n",
       "    </tr>\n",
       "    <tr>\n",
       "      <th>2023-04-28</th>\n",
       "      <td>307.260010</td>\n",
       "      <td>304.829987</td>\n",
       "      <td>307.260010</td>\n",
       "    </tr>\n",
       "    <tr>\n",
       "      <th>2023-05-01</th>\n",
       "      <td>305.559998</td>\n",
       "      <td>307.260010</td>\n",
       "      <td>305.559998</td>\n",
       "    </tr>\n",
       "    <tr>\n",
       "      <th>2023-05-02</th>\n",
       "      <td>305.410004</td>\n",
       "      <td>305.559998</td>\n",
       "      <td>305.410004</td>\n",
       "    </tr>\n",
       "    <tr>\n",
       "      <th>2023-05-03</th>\n",
       "      <td>304.399994</td>\n",
       "      <td>305.410004</td>\n",
       "      <td>304.399994</td>\n",
       "    </tr>\n",
       "  </tbody>\n",
       "</table>\n",
       "<p>9361 rows × 3 columns</p>\n",
       "</div>"
      ],
      "text/plain": [
       "                 Close  Target_Close_1      Target\n",
       "Date                                              \n",
       "1986-03-13    0.097222             NaN    0.097222\n",
       "1986-03-14    0.100694        0.097222    0.100694\n",
       "1986-03-17    0.102431        0.100694    0.102431\n",
       "1986-03-18    0.099826        0.102431    0.099826\n",
       "1986-03-19    0.098090        0.099826    0.098090\n",
       "...                ...             ...         ...\n",
       "2023-04-27  304.829987      295.369995  304.829987\n",
       "2023-04-28  307.260010      304.829987  307.260010\n",
       "2023-05-01  305.559998      307.260010  305.559998\n",
       "2023-05-02  305.410004      305.559998  305.410004\n",
       "2023-05-03  304.399994      305.410004  304.399994\n",
       "\n",
       "[9361 rows x 3 columns]"
      ]
     },
     "execution_count": 11,
     "metadata": {},
     "output_type": "execute_result"
    }
   ],
   "source": [
    "# Create windows based on lags\n",
    "def create_window(df, lag):\n",
    "    if lag < len(df):\n",
    "        l = lag\n",
    "\n",
    "        while True:\n",
    "            df[f\"Target_Close_{l}\"] = df.Close.shift(l)\n",
    "\n",
    "            l = l-1\n",
    "            if l<1:\n",
    "                break\n",
    "        \n",
    "        df[\"Target\"] = df.Close.copy()\n",
    "        return df\n",
    "    \n",
    "    else:\n",
    "        raise ValueError(f\"Lag value ({lag}) should be less than the size of data ({len(df)}).\")\n",
    "\n",
    "try:\n",
    "    lag = 1\n",
    "    target_data = data.copy()\n",
    "    target_data = create_window(target_data, lag)\n",
    "     \n",
    "except ValueError as e:\n",
    "    print(str(e))\n",
    "    \n",
    "target_data"
   ]
  },
  {
   "cell_type": "code",
   "execution_count": 12,
   "metadata": {},
   "outputs": [
    {
     "data": {
      "text/html": [
       "<div>\n",
       "<style scoped>\n",
       "    .dataframe tbody tr th:only-of-type {\n",
       "        vertical-align: middle;\n",
       "    }\n",
       "\n",
       "    .dataframe tbody tr th {\n",
       "        vertical-align: top;\n",
       "    }\n",
       "\n",
       "    .dataframe thead th {\n",
       "        text-align: right;\n",
       "    }\n",
       "</style>\n",
       "<table border=\"1\" class=\"dataframe\">\n",
       "  <thead>\n",
       "    <tr style=\"text-align: right;\">\n",
       "      <th></th>\n",
       "      <th>Target_Close_1</th>\n",
       "      <th>Target</th>\n",
       "    </tr>\n",
       "    <tr>\n",
       "      <th>Date</th>\n",
       "      <th></th>\n",
       "      <th></th>\n",
       "    </tr>\n",
       "  </thead>\n",
       "  <tbody>\n",
       "    <tr>\n",
       "      <th>1986-03-13</th>\n",
       "      <td>NaN</td>\n",
       "      <td>0.097222</td>\n",
       "    </tr>\n",
       "    <tr>\n",
       "      <th>1986-03-14</th>\n",
       "      <td>0.097222</td>\n",
       "      <td>0.100694</td>\n",
       "    </tr>\n",
       "    <tr>\n",
       "      <th>1986-03-17</th>\n",
       "      <td>0.100694</td>\n",
       "      <td>0.102431</td>\n",
       "    </tr>\n",
       "    <tr>\n",
       "      <th>1986-03-18</th>\n",
       "      <td>0.102431</td>\n",
       "      <td>0.099826</td>\n",
       "    </tr>\n",
       "    <tr>\n",
       "      <th>1986-03-19</th>\n",
       "      <td>0.099826</td>\n",
       "      <td>0.098090</td>\n",
       "    </tr>\n",
       "    <tr>\n",
       "      <th>...</th>\n",
       "      <td>...</td>\n",
       "      <td>...</td>\n",
       "    </tr>\n",
       "    <tr>\n",
       "      <th>2023-04-27</th>\n",
       "      <td>295.369995</td>\n",
       "      <td>304.829987</td>\n",
       "    </tr>\n",
       "    <tr>\n",
       "      <th>2023-04-28</th>\n",
       "      <td>304.829987</td>\n",
       "      <td>307.260010</td>\n",
       "    </tr>\n",
       "    <tr>\n",
       "      <th>2023-05-01</th>\n",
       "      <td>307.260010</td>\n",
       "      <td>305.559998</td>\n",
       "    </tr>\n",
       "    <tr>\n",
       "      <th>2023-05-02</th>\n",
       "      <td>305.559998</td>\n",
       "      <td>305.410004</td>\n",
       "    </tr>\n",
       "    <tr>\n",
       "      <th>2023-05-03</th>\n",
       "      <td>305.410004</td>\n",
       "      <td>304.399994</td>\n",
       "    </tr>\n",
       "  </tbody>\n",
       "</table>\n",
       "<p>9361 rows × 2 columns</p>\n",
       "</div>"
      ],
      "text/plain": [
       "            Target_Close_1      Target\n",
       "Date                                  \n",
       "1986-03-13             NaN    0.097222\n",
       "1986-03-14        0.097222    0.100694\n",
       "1986-03-17        0.100694    0.102431\n",
       "1986-03-18        0.102431    0.099826\n",
       "1986-03-19        0.099826    0.098090\n",
       "...                    ...         ...\n",
       "2023-04-27      295.369995  304.829987\n",
       "2023-04-28      304.829987  307.260010\n",
       "2023-05-01      307.260010  305.559998\n",
       "2023-05-02      305.559998  305.410004\n",
       "2023-05-03      305.410004  304.399994\n",
       "\n",
       "[9361 rows x 2 columns]"
      ]
     },
     "execution_count": 12,
     "metadata": {},
     "output_type": "execute_result"
    }
   ],
   "source": [
    "# Delete redundant columns\n",
    "deleted_cols = [\"Close\"]\n",
    "target_data = drop_columns(target_data, deleted_cols)\n",
    "target_data"
   ]
  },
  {
   "cell_type": "code",
   "execution_count": 13,
   "metadata": {},
   "outputs": [
    {
     "name": "stdout",
     "output_type": "stream",
     "text": [
      "Selected target shape:  (9356, 2)\n"
     ]
    }
   ],
   "source": [
    "# Choose data period\n",
    "def selected_targets(dataframe, first_date, last_date):\n",
    "    if first_date > dataframe.index[lag-1]:\n",
    "        target_selected = dataframe.loc[first_date:last_date]\n",
    "        return target_selected\n",
    "    else:\n",
    "        raise ValueError(f\"First date should be greater than {first_date}.\")     \n",
    "\n",
    "try:  \n",
    "    first_date = '1986-03-20'\n",
    "    last_date = '2023-05-03'\n",
    "    target_selected = selected_targets(target_data, str_to_datetime(first_date), str_to_datetime(last_date))\n",
    "    print(\"Selected target shape: \", target_selected.shape)\n",
    "    \n",
    "except ValueError as e:\n",
    "    print(str(e))"
   ]
  },
  {
   "cell_type": "code",
   "execution_count": 14,
   "metadata": {
    "colab": {
     "base_uri": "https://localhost:8080/",
     "height": 424
    },
    "id": "fsU9d3u0HdYj",
    "outputId": "10e55e21-f752-4d49-d7c2-ad01b39f2441"
   },
   "outputs": [
    {
     "data": {
      "text/plain": [
       "((9356,), (9356, 1), (9356,))"
      ]
     },
     "execution_count": 14,
     "metadata": {},
     "output_type": "execute_result"
    }
   ],
   "source": [
    "# Prepare data\n",
    "def prepare_data(df):\n",
    "    # convert df to numpy array\n",
    "    dates = df.index.to_numpy()\n",
    "    X = df.to_numpy()[:, :-1]\n",
    "    y = df.to_numpy()[:, -1]\n",
    "    return dates, X, y\n",
    "    \n",
    "dates, X, y = prepare_data(target_selected)\n",
    "dates.shape, X.shape, y.shape"
   ]
  },
  {
   "cell_type": "code",
   "execution_count": 15,
   "metadata": {},
   "outputs": [
    {
     "data": {
      "text/plain": [
       "((7484, 1), (1872, 1))"
      ]
     },
     "execution_count": 15,
     "metadata": {},
     "output_type": "execute_result"
    }
   ],
   "source": [
    "# Split train and test data\n",
    "train_size = int(len(dates)*0.8)\n",
    "dates_train = dates[:train_size]\n",
    "X_train = X[:train_size]\n",
    "y_train = y[:train_size]\n",
    "dates_test = dates[train_size:]\n",
    "X_test = X[train_size:]\n",
    "y_test = y[train_size:]\n",
    "\n",
    "X_train.shape, X_test.shape"
   ]
  },
  {
   "cell_type": "code",
   "execution_count": 16,
   "metadata": {},
   "outputs": [
    {
     "data": {
      "text/plain": [
       "((5987, 1), (1497, 1))"
      ]
     },
     "execution_count": 16,
     "metadata": {},
     "output_type": "execute_result"
    }
   ],
   "source": [
    "# Split train and validation data\n",
    "train_nn_size = int(len(dates_train)*0.8)\n",
    "dates_train_nn = dates_train[:train_nn_size]\n",
    "X_train_nn = X_train[:train_nn_size]\n",
    "y_train_nn = y_train[:train_nn_size]\n",
    "dates_val_nn = dates_train[train_nn_size:]\n",
    "X_val_nn = X_train[train_nn_size:]\n",
    "y_val_nn = y_train[train_nn_size:]\n",
    "\n",
    "X_train_nn.shape, X_val_nn.shape"
   ]
  },
  {
   "cell_type": "code",
   "execution_count": 17,
   "metadata": {},
   "outputs": [],
   "source": [
    "# Standardize X data\n",
    "scaler = StandardScaler()\n",
    "scaler.fit(X_train)\n",
    "X_train = scaler.transform(X_train)\n",
    "X_test = scaler.transform(X_test)\n",
    "X_train_nn = scaler.transform(X_train_nn)\n",
    "X_val_nn = scaler.transform(X_val_nn)"
   ]
  },
  {
   "cell_type": "code",
   "execution_count": 19,
   "metadata": {},
   "outputs": [
    {
     "data": {
      "text/plain": [
       "<matplotlib.legend.Legend at 0x1e8eedfe5e0>"
      ]
     },
     "execution_count": 19,
     "metadata": {},
     "output_type": "execute_result"
    },
    {
     "data": {
      "image/png": "[encoded data removed]",
      "text/plain": [
       "<Figure size 640x480 with 1 Axes>"
      ]
     },
     "metadata": {},
     "output_type": "display_data"
    }
   ],
   "source": [
    "# Plot train and test data\n",
    "plt.plot(dates_train, y_train)\n",
    "plt.plot(dates_test, y_test)\n",
    "plt.xlabel(\"Close\")\n",
    "plt.ylabel(\"Date\")\n",
    "plt.title(\"Closing Values Over Time of Train and Test Data\")\n",
    "plt.legend([\"Train\", \"Test\"])"
   ]
  },
  {
   "cell_type": "code",
   "execution_count": null,
   "metadata": {},
   "outputs": [],
   "source": [
    "# Train and test target data distribution\n",
    "# pd.DataFrame(y_train).describe(), pd.DataFrame(y_test).describe()"
   ]
  },
  {
   "cell_type": "code",
   "execution_count": 20,
   "metadata": {},
   "outputs": [
    {
     "name": "stdout",
     "output_type": "stream",
     "text": [
      "Best linear regression hyperparameters: {'fit_intercept': array([ True])}\n",
      "MAE validation score: 1.9474931441633694\n"
     ]
    }
   ],
   "source": [
    "# Create linear regression model\n",
    "model_lr = LinearRegression()\n",
    "\n",
    "# Define the hyperparameter grid to search over\n",
    "param_grid_lr = {'fit_intercept': [True, False]}\n",
    "\n",
    "# Set the time series cross-validation scheme\n",
    "cv_lr = TimeSeriesSplit(n_splits=6)\n",
    "\n",
    "# Initialize arrays to store performance metrics\n",
    "mae_scores_lr = np.zeros((len(param_grid_lr['fit_intercept'])))\n",
    "\n",
    "for train_index, val_index in cv_lr.split(X_train):\n",
    "    X_train_cv, X_val_cv = X_train[train_index], X_train[val_index]\n",
    "    y_train_cv, y_val_cv = y_train[train_index], y_train[val_index]\n",
    "\n",
    "    # Perform GridSearchCV on the training set\n",
    "    grid_search_lr = GridSearchCV(model_lr, param_grid_lr, cv=cv_lr, n_jobs=-1)\n",
    "    grid_search_lr.fit(X_train_cv, y_train_cv)\n",
    "\n",
    "    # Train a final model on the entire training set using the best hyperparameters\n",
    "    best_model = grid_search_lr.best_estimator_\n",
    "    best_model.fit(X_train_cv, y_train_cv)\n",
    "\n",
    "    # Evaluate performance on the validation set\n",
    "    y_pred = best_model.predict(X_val_cv)\n",
    "    mae_scores_lr += mean_absolute_error(y_val_cv, y_pred)\n",
    "\n",
    "# Select the hyperparameters that resulted in the best performance\n",
    "best_mae_lr_index = np.unravel_index(mae_scores_lr.argmin(), mae_scores_lr.shape)\n",
    "best_params_lr = {'fit_intercept': np.take(param_grid_lr['fit_intercept'], best_mae_lr_index)}\n",
    "\n",
    "print('Best linear regression hyperparameters:', best_params_lr)\n",
    "print('MAE validation score:', mae_scores_lr[best_mae_lr_index])"
   ]
  },
  {
   "cell_type": "code",
   "execution_count": 22,
   "metadata": {},
   "outputs": [
    {
     "name": "stdout",
     "output_type": "stream",
     "text": [
      "Best SVR hyperparameters: {'kernel': 'linear', 'C': 0.1, 'epsilon': 0.1}\n",
      "MAE validation score: 2.222026969434655\n"
     ]
    }
   ],
   "source": [
    "# Create the SVR model\n",
    "model_svr = SVR()\n",
    "\n",
    "param_grid_svr = {\n",
    "    'kernel': ['linear', 'rbf'],\n",
    "    'C': [0.1, 1, 5, 10, 50],\n",
    "    'epsilon': [0.1, 0.2, 0.5]\n",
    "}\n",
    "\n",
    "cv_svr = TimeSeriesSplit(n_splits=6)\n",
    "\n",
    "mae_scores_svr = np.zeros((len(param_grid_svr['kernel']), len(param_grid_svr['C']), len(param_grid_svr['epsilon'])))\n",
    "\n",
    "for train_index, val_index in cv_lr.split(X_train):\n",
    "    X_train_cv, X_val_cv = X_train[train_index], X_train[val_index]\n",
    "    y_train_cv, y_val_cv = y_train[train_index], y_train[val_index]\n",
    "\n",
    "    grid_search_svr = GridSearchCV(model_svr, param_grid_svr, cv=cv_svr, n_jobs=-1)\n",
    "    grid_search_svr.fit(X_train_cv, y_train_cv)\n",
    "\n",
    "    best_model = grid_search_svr.best_estimator_\n",
    "    best_model.fit(X_train_cv, y_train_cv)\n",
    "\n",
    "    y_pred = best_model.predict(X_val_cv)\n",
    "    mae_scores_svr += mean_absolute_error(y_val_cv, y_pred)\n",
    "\n",
    "best_mae_svr_index = np.unravel_index(mae_scores_svr.argmin(), mae_scores_svr.shape)\n",
    "best_params_svr = {'kernel': param_grid_svr['kernel'][best_mae_svr_index[0]],\n",
    "                   'C': param_grid_svr['C'][best_mae_svr_index[1]],\n",
    "                   'epsilon': param_grid_svr['epsilon'][best_mae_svr_index[2]]}\n",
    "\n",
    "print('Best SVR hyperparameters:', best_params_svr)\n",
    "print('MAE validation score:', mae_scores_svr[best_mae_svr_index])"
   ]
  },
  {
   "cell_type": "code",
   "execution_count": 23,
   "metadata": {},
   "outputs": [
    {
     "name": "stdout",
     "output_type": "stream",
     "text": [
      "Best Random Forest hyperparameters: {'n_estimators': 50, 'max_depth': None}\n",
      "MAE validation score: 17.274967779976574\n"
     ]
    }
   ],
   "source": [
    "# Create a random forest regression model\n",
    "model_rf = RandomForestRegressor()\n",
    "\n",
    "param_grid_rf = {\n",
    "    'n_estimators': [50, 100, 150],\n",
    "    'max_depth': [None, 3, 5]\n",
    "}\n",
    "\n",
    "cv_rf = TimeSeriesSplit(n_splits=6)\n",
    "\n",
    "mae_scores_rf = np.zeros((len(param_grid_rf['n_estimators']), len(param_grid_rf['max_depth'])))\n",
    "\n",
    "for train_index, val_index in cv_rf.split(X_train):\n",
    "    X_train_cv, X_val_cv = X_train[train_index], X_train[val_index]\n",
    "    y_train_cv, y_val_cv = y_train[train_index], y_train[val_index]\n",
    "\n",
    "    grid_search_rf = GridSearchCV(model_rf, param_grid_rf, cv=cv_rf, n_jobs=-1)\n",
    "    grid_search_rf.fit(X_train_cv, y_train_cv)\n",
    "\n",
    "    best_model = grid_search_rf.best_estimator_\n",
    "    best_model.fit(X_train_cv, y_train_cv)\n",
    "\n",
    "    y_pred = best_model.predict(X_val_cv)\n",
    "    mae_scores_rf += mean_absolute_error(y_val_cv, y_pred)\n",
    "\n",
    "best_mae_rf_index = np.unravel_index(mae_scores_rf.argmin(), mae_scores_rf.shape)\n",
    "best_params_rf = {'n_estimators': param_grid_rf['n_estimators'][best_mae_rf_index[0]],\n",
    "                   'max_depth': param_grid_rf['max_depth'][best_mae_rf_index[1]]}\n",
    "\n",
    "print('Best Random Forest hyperparameters:', best_params_rf)\n",
    "print('MAE validation score:', mae_scores_rf[best_mae_rf_index])"
   ]
  },
  {
   "cell_type": "code",
   "execution_count": 24,
   "metadata": {},
   "outputs": [
    {
     "name": "stdout",
     "output_type": "stream",
     "text": [
      "Best Gradient Boosting hyperparameters: {'n_estimators': 50, 'learning_rate': 0.1, 'max_depth': 3}\n",
      "MAE validation score: 16.577477201787232\n"
     ]
    }
   ],
   "source": [
    "# Create Gradient Boosting Regressor model\n",
    "model_gb = GradientBoostingRegressor()\n",
    "\n",
    "param_grid_gb = {\n",
    "    'n_estimators': [50, 100, 150],\n",
    "    'learning_rate': [0.1, 0.01, 0.001, 0.0001, 0.00001],\n",
    "    'max_depth': [3, 5, 7]\n",
    "}\n",
    "\n",
    "cv_gb = TimeSeriesSplit(n_splits=6)\n",
    "\n",
    "mae_scores_gb = np.zeros((len(param_grid_gb['n_estimators']), \n",
    "                           len(param_grid_gb['learning_rate']), \n",
    "                           len(param_grid_gb['max_depth'])))\n",
    "\n",
    "for train_index, val_index in cv_lr.split(X_train):\n",
    "    X_train_cv, X_val_cv = X_train[train_index], X_train[val_index]\n",
    "    y_train_cv, y_val_cv = y_train[train_index], y_train[val_index]\n",
    "\n",
    "    grid_search_gb = GridSearchCV(model_gb, param_grid_gb, cv=cv_gb, n_jobs=-1)\n",
    "    grid_search_gb.fit(X_train_cv, y_train_cv)\n",
    "\n",
    "    best_model = grid_search_gb.best_estimator_\n",
    "    best_model.fit(X_train_cv, y_train_cv)\n",
    "\n",
    "    y_pred = best_model.predict(X_val_cv)\n",
    "    mae_scores_gb += mean_absolute_error(y_val_cv, y_pred)\n",
    "\n",
    "best_mae_gb_index = np.unravel_index(mae_scores_gb.argmin(), mae_scores_gb.shape)\n",
    "best_params_gb = {'n_estimators': param_grid_gb['n_estimators'][best_mae_gb_index[0]],\n",
    "                   'learning_rate': param_grid_gb['learning_rate'][best_mae_gb_index[1]],\n",
    "                   'max_depth': param_grid_gb['max_depth'][best_mae_gb_index[2]]}\n",
    "\n",
    "print('Best Gradient Boosting hyperparameters:', best_params_gb)\n",
    "print('MAE validation score:', mae_scores_gb[best_mae_gb_index])"
   ]
  },
  {
   "cell_type": "code",
   "execution_count": 25,
   "metadata": {},
   "outputs": [
    {
     "name": "stdout",
     "output_type": "stream",
     "text": [
      "Best Random Forest hyperparameters: {'n_neighbors': 3, 'weights': 'uniform'}\n",
      "MAE validation score: 17.40377235572534\n"
     ]
    }
   ],
   "source": [
    "# Create KNeighborsRegressor model\n",
    "model_kn = KNeighborsRegressor()\n",
    "\n",
    "param_grid_kn = {\n",
    "    'n_neighbors': [3, 5, 7],\n",
    "    'weights': ['uniform', 'distance']\n",
    "}\n",
    "\n",
    "cv_kn = TimeSeriesSplit(n_splits=6)\n",
    "\n",
    "mae_scores_kn = np.zeros((len(param_grid_kn['n_neighbors']), len(param_grid_kn['weights'])))\n",
    "\n",
    "for train_index, val_index in cv_kn.split(X_train):\n",
    "    X_train_cv, X_val_cv = X_train[train_index], X_train[val_index]\n",
    "    y_train_cv, y_val_cv = y_train[train_index], y_train[val_index]\n",
    "\n",
    "    grid_search_kn = GridSearchCV(model_kn, param_grid_kn, cv=cv_kn, n_jobs=-1)\n",
    "    grid_search_kn.fit(X_train_cv, y_train_cv)\n",
    "\n",
    "    best_model = grid_search_kn.best_estimator_\n",
    "    best_model.fit(X_train_cv, y_train_cv)\n",
    "\n",
    "    y_pred = best_model.predict(X_val_cv)\n",
    "    mae_scores_kn += mean_absolute_error(y_val_cv, y_pred)\n",
    "\n",
    "best_mae_kn_index = np.unravel_index(mae_scores_kn.argmin(), mae_scores_kn.shape)\n",
    "best_params_kn = {'n_neighbors': param_grid_kn['n_neighbors'][best_mae_kn_index[0]],\n",
    "                   'weights': param_grid_kn['weights'][best_mae_kn_index[1]]}\n",
    "\n",
    "print('Best KNeighbors Regressor hyperparameters:', best_params_kn)\n",
    "print('MAE validation score:', mae_scores_kn[best_mae_rf_index])"
   ]
  },
  {
   "cell_type": "code",
   "execution_count": 28,
   "metadata": {},
   "outputs": [
    {
     "name": "stdout",
     "output_type": "stream",
     "text": [
      "Trial 3 Complete [00h 01m 58s]\n",
      "val_mean_absolute_error: 0.3506084084510803\n",
      "\n",
      "Best val_mean_absolute_error So Far: 0.3506084084510803\n",
      "Total elapsed time: 00h 02m 41s\n",
      "INFO:tensorflow:Oracle triggered exit\n",
      "{'num_layers': 23, 'units_0': 416, 'units_1': 160, 'learning_rate': 1e-05, 'units_2': 192, 'units_3': 608, 'units_4': 608, 'units_5': 416, 'units_6': 960, 'units_7': 608, 'units_8': 128, 'units_9': 896, 'units_10': 160, 'units_11': 864, 'units_12': 544, 'units_13': 704, 'units_14': 224, 'units_15': 1024, 'units_16': 224, 'units_17': 800, 'units_18': 32, 'units_19': 32, 'units_20': 32, 'units_21': 32, 'units_22': 32}\n",
      "Results summary\n",
      "Results in project\\time_series_ep100_lag1\n",
      "Showing 10 best trials\n",
      "Objective(name=\"val_mean_absolute_error\", direction=\"min\")\n",
      "\n",
      "Trial 2 summary\n",
      "Hyperparameters:\n",
      "num_layers: 23\n",
      "units_0: 416\n",
      "units_1: 160\n",
      "learning_rate: 1e-05\n",
      "units_2: 192\n",
      "units_3: 608\n",
      "units_4: 608\n",
      "units_5: 416\n",
      "units_6: 960\n",
      "units_7: 608\n",
      "units_8: 128\n",
      "units_9: 896\n",
      "units_10: 160\n",
      "units_11: 864\n",
      "units_12: 544\n",
      "units_13: 704\n",
      "units_14: 224\n",
      "units_15: 1024\n",
      "units_16: 224\n",
      "units_17: 800\n",
      "units_18: 32\n",
      "units_19: 32\n",
      "units_20: 32\n",
      "units_21: 32\n",
      "units_22: 32\n",
      "Score: 0.3506084084510803\n",
      "\n",
      "Trial 1 summary\n",
      "Hyperparameters:\n",
      "num_layers: 18\n",
      "units_0: 1024\n",
      "units_1: 96\n",
      "learning_rate: 0.0001\n",
      "units_2: 32\n",
      "units_3: 32\n",
      "units_4: 32\n",
      "units_5: 32\n",
      "units_6: 32\n",
      "units_7: 32\n",
      "units_8: 32\n",
      "units_9: 32\n",
      "units_10: 32\n",
      "units_11: 32\n",
      "units_12: 32\n",
      "units_13: 32\n",
      "units_14: 32\n",
      "units_15: 32\n",
      "units_16: 32\n",
      "units_17: 32\n",
      "Score: 0.35085049271583557\n",
      "\n",
      "Trial 0 summary\n",
      "Hyperparameters:\n",
      "num_layers: 2\n",
      "units_0: 544\n",
      "units_1: 352\n",
      "learning_rate: 1e-05\n",
      "Score: 0.3529353141784668\n"
     ]
    }
   ],
   "source": [
    "# Define hyperparameters function\n",
    "hp = HyperParameters()\n",
    "\n",
    "# Create neural networks model\n",
    "def build_model(hp):\n",
    "    model = keras.Sequential()\n",
    "    for i in range(hp.Int('num_layers', 2, 50)):\n",
    "        model.add(layers.Dense(units=hp.Int('units_' + str(i),\n",
    "                                            min_value=32,\n",
    "                                            max_value=1024,\n",
    "                                            step=32),\n",
    "                               activation='relu'))\n",
    "    model.add(layers.Dense(1, activation='linear'))\n",
    "    model.compile(\n",
    "        optimizer=keras.optimizers.Adam(\n",
    "            hp.Choice('learning_rate', [1e-2, 1e-3, 1e-4, 1e-5])),\n",
    "        loss='mean_absolute_error',\n",
    "        metrics=['mean_absolute_error'])\n",
    "    return model\n",
    "\n",
    "tuner = RandomSearch(\n",
    "    build_model,\n",
    "    objective='val_mean_absolute_error',\n",
    "    max_trials=3,\n",
    "    executions_per_trial=1,\n",
    "    directory='project',\n",
    "    hyperparameters=hp,\n",
    "    project_name='time_series_ep100_lag1')\n",
    "\n",
    "# To stop early if there is no further changes in val_loss\n",
    "callbacks = tf.keras.callbacks.EarlyStopping('val_loss', patience=5, mode='min')\n",
    "\n",
    "# Search the best hyperparameters and model\n",
    "tuner.search(X_train_nn, y_train_nn, epochs=100, validation_data=(X_val_nn, y_val_nn), callbacks=[callbacks])\n",
    "\n",
    "# Best hyperparameters\n",
    "best_trials = tuner.oracle.get_best_trials(num_trials=1)\n",
    "for trial in best_trials:\n",
    "    print(trial.hyperparameters.values)\n",
    "    \n",
    "tuner.results_summary()"
   ]
  }
 ],
 "metadata": {
  "colab": {
   "provenance": []
  },
  "kernelspec": {
   "display_name": "Python 3 (ipykernel)",
   "language": "python",
   "name": "python3"
  },
  "language_info": {
   "codemirror_mode": {
    "name": "ipython",
    "version": 3
   },
   "file_extension": ".py",
   "mimetype": "text/x-python",
   "name": "python",
   "nbconvert_exporter": "python",
   "pygments_lexer": "ipython3",
   "version": "3.9.13"
  }
 },
 "nbformat": 4,
 "nbformat_minor": 1
}
